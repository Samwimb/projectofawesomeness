{
 "cells": [
  {
   "cell_type": "code",
   "execution_count": 1,
   "metadata": {},
   "outputs": [],
   "source": [
    "# Dependencies and Setup\n",
    "%matplotlib inline\n",
    "import matplotlib.pyplot as plt\n",
    "import pandas as pd\n",
    "import numpy as np\n",
    "from scipy import stats\n",
    "\n",
    "# Hide warning messages in notebook\n",
    "import warnings\n",
    "warnings.filterwarnings('ignore')\n",
    "\n",
    "# Files to Load \n",
    "whr =\"../Resources/whr_2016_cleaned.csv\"\n",
    "hdi = \"../Resources/HDI_Data_cleaned.csv\"\n",
    "\n",
    "# Read whr and hdi data\n",
    "whr_df = pd.read_csv(whr)\n",
    "hdi_df = pd.read_csv(hdi)\n",
    "\n",
    "hdi_df = hdi_df[['Country', 'country code', 'HDI 2016']]\n",
    "\n",
    "hdi_df.rename(\n",
    "    columns={\n",
    "        \"country code\": \"Country_Code\",\n",
    "    },\n",
    "    inplace=True)\n",
    "\n",
    "whr_df.rename(\n",
    "    columns={\n",
    "        \"country code\": \"Country_Code\",\n",
    "    },\n",
    "    inplace=True)\n",
    "\n"
   ]
  },
  {
   "cell_type": "code",
   "execution_count": 2,
   "metadata": {},
   "outputs": [
    {
     "data": {
      "text/html": [
       "<div>\n",
       "<style scoped>\n",
       "    .dataframe tbody tr th:only-of-type {\n",
       "        vertical-align: middle;\n",
       "    }\n",
       "\n",
       "    .dataframe tbody tr th {\n",
       "        vertical-align: top;\n",
       "    }\n",
       "\n",
       "    .dataframe thead th {\n",
       "        text-align: right;\n",
       "    }\n",
       "</style>\n",
       "<table border=\"1\" class=\"dataframe\">\n",
       "  <thead>\n",
       "    <tr style=\"text-align: right;\">\n",
       "      <th></th>\n",
       "      <th>Country</th>\n",
       "      <th>Country_Code</th>\n",
       "      <th>Happiness Score</th>\n",
       "      <th>HDI 2016</th>\n",
       "    </tr>\n",
       "  </thead>\n",
       "  <tbody>\n",
       "    <tr>\n",
       "      <th>0</th>\n",
       "      <td>Denmark</td>\n",
       "      <td>DNK</td>\n",
       "      <td>7.526</td>\n",
       "      <td>0.928</td>\n",
       "    </tr>\n",
       "    <tr>\n",
       "      <th>1</th>\n",
       "      <td>Switzerland</td>\n",
       "      <td>CHE</td>\n",
       "      <td>7.509</td>\n",
       "      <td>0.943</td>\n",
       "    </tr>\n",
       "    <tr>\n",
       "      <th>2</th>\n",
       "      <td>Iceland</td>\n",
       "      <td>ISL</td>\n",
       "      <td>7.501</td>\n",
       "      <td>0.933</td>\n",
       "    </tr>\n",
       "    <tr>\n",
       "      <th>3</th>\n",
       "      <td>Norway</td>\n",
       "      <td>NOR</td>\n",
       "      <td>7.498</td>\n",
       "      <td>0.951</td>\n",
       "    </tr>\n",
       "    <tr>\n",
       "      <th>4</th>\n",
       "      <td>Finland</td>\n",
       "      <td>FIN</td>\n",
       "      <td>7.413</td>\n",
       "      <td>0.918</td>\n",
       "    </tr>\n",
       "  </tbody>\n",
       "</table>\n",
       "</div>"
      ],
      "text/plain": [
       "       Country Country_Code  Happiness Score  HDI 2016\n",
       "0      Denmark          DNK            7.526     0.928\n",
       "1  Switzerland          CHE            7.509     0.943\n",
       "2      Iceland          ISL            7.501     0.933\n",
       "3       Norway          NOR            7.498     0.951\n",
       "4      Finland          FIN            7.413     0.918"
      ]
     },
     "execution_count": 2,
     "metadata": {},
     "output_type": "execute_result"
    }
   ],
   "source": [
    "# Combine the data into a single dataset\n",
    "whr_df = whr_df[['Country', 'Country_Code', 'Happiness Score']]\n",
    "\n",
    "whr_df = whr_df[whr_df.Country_Code != '*unk']\n",
    "hdi_df = hdi_df[hdi_df.Country_Code != '*unk']\n",
    "\n",
    "\n",
    "whr_hdi_df = pd.merge(whr_df, hdi_df, how=\"inner\", on=[\"Country_Code\", \"Country_Code\"])\n",
    "\n",
    "whr_hdi_df.rename(\n",
    "    columns={\n",
    "        \"Country_x\": \"Country\",\n",
    "    },\n",
    "    inplace=True)\n",
    "\n",
    "whr_hdi_df = whr_hdi_df[['Country', 'Country_Code', 'Happiness Score', 'HDI 2016']]\n",
    "\n",
    "whr_hdi_df.to_csv('../Resources/whr_hdi.csv')\n",
    "\n",
    "# Display the data table for preview\n",
    "whr_hdi_df.head()"
   ]
  },
  {
   "cell_type": "code",
   "execution_count": 3,
   "metadata": {},
   "outputs": [
    {
     "name": "stdout",
     "output_type": "stream",
     "text": [
      "0.6886044344739949\n"
     ]
    }
   ],
   "source": [
    "x_axis = whr_hdi_df[\"Happiness Score\"]\n",
    "y_axis = whr_hdi_df [\"HDI 2016\"]\n",
    "\n",
    "slope, intercept, r, p, std_err = stats.linregress(\n",
    "    x_axis, y_axis)\n",
    "fit = slope * x_axis + intercept\n",
    "r_squared = r**2\n",
    "print(r_squared)"
   ]
  },
  {
   "cell_type": "code",
   "execution_count": 4,
   "metadata": {},
   "outputs": [
    {
     "data": {
      "text/plain": [
       "Text(0.5, 0, 'Happiness Score')"
      ]
     },
     "execution_count": 4,
     "metadata": {},
     "output_type": "execute_result"
    },
    {
     "data": {
      "image/png": "[encoded data removed]",
      "text/plain": [
       "<Figure size 960x640 with 1 Axes>"
      ]
     },
     "metadata": {
      "needs_background": "light"
     },
     "output_type": "display_data"
    }
   ],
   "source": [
    "plt.figure(figsize=(12, 8), dpi=80)\n",
    "plt.scatter(x_axis, y_axis, marker=\"o\")\n",
    "plt.plot(x_axis, fit, '-k')\n",
    "plt.grid(True)\n",
    "\n",
    "plt.title(\"Happiness Rank vs HDI\")\n",
    "plt.ylabel(\"HDI \")\n",
    "plt.xlabel(\"Happiness Score\")\n",
    "\n",
    "# for i, txt in enumerate(x_axis):\n",
    "#     plt.annotate(whr_hdi_df[\"Country_Code\"][i], (x_axis[i], y_axis[i]))"
   ]
  },
  {
   "cell_type": "code",
   "execution_count": 5,
   "metadata": {},
   "outputs": [
    {
     "data": {
      "text/html": [
       "<div>\n",
       "<style scoped>\n",
       "    .dataframe tbody tr th:only-of-type {\n",
       "        vertical-align: middle;\n",
       "    }\n",
       "\n",
       "    .dataframe tbody tr th {\n",
       "        vertical-align: top;\n",
       "    }\n",
       "\n",
       "    .dataframe thead th {\n",
       "        text-align: right;\n",
       "    }\n",
       "</style>\n",
       "<table border=\"1\" class=\"dataframe\">\n",
       "  <thead>\n",
       "    <tr style=\"text-align: right;\">\n",
       "      <th></th>\n",
       "      <th>Country</th>\n",
       "      <th>Country_Code</th>\n",
       "      <th>Happiness Score</th>\n",
       "      <th>HDI 2016</th>\n",
       "      <th>Distance</th>\n",
       "    </tr>\n",
       "  </thead>\n",
       "  <tbody>\n",
       "    <tr>\n",
       "      <th>114</th>\n",
       "      <td>Bulgaria</td>\n",
       "      <td>BGR</td>\n",
       "      <td>4.217</td>\n",
       "      <td>0.810</td>\n",
       "      <td>0.221844</td>\n",
       "    </tr>\n",
       "    <tr>\n",
       "      <th>69</th>\n",
       "      <td>Hong Kong</td>\n",
       "      <td>HKG</td>\n",
       "      <td>5.458</td>\n",
       "      <td>0.930</td>\n",
       "      <td>0.203639</td>\n",
       "    </tr>\n",
       "    <tr>\n",
       "      <th>89</th>\n",
       "      <td>Greece</td>\n",
       "      <td>GRC</td>\n",
       "      <td>5.033</td>\n",
       "      <td>0.868</td>\n",
       "      <td>0.188970</td>\n",
       "    </tr>\n",
       "    <tr>\n",
       "      <th>112</th>\n",
       "      <td>Georgia</td>\n",
       "      <td>GEO</td>\n",
       "      <td>4.252</td>\n",
       "      <td>0.776</td>\n",
       "      <td>0.183946</td>\n",
       "    </tr>\n",
       "    <tr>\n",
       "      <th>104</th>\n",
       "      <td>Sri Lanka</td>\n",
       "      <td>LKA</td>\n",
       "      <td>4.415</td>\n",
       "      <td>0.768</td>\n",
       "      <td>0.157793</td>\n",
       "    </tr>\n",
       "  </tbody>\n",
       "</table>\n",
       "</div>"
      ],
      "text/plain": [
       "       Country Country_Code  Happiness Score  HDI 2016  Distance\n",
       "114   Bulgaria          BGR            4.217     0.810  0.221844\n",
       "69   Hong Kong          HKG            5.458     0.930  0.203639\n",
       "89      Greece          GRC            5.033     0.868  0.188970\n",
       "112    Georgia          GEO            4.252     0.776  0.183946\n",
       "104  Sri Lanka          LKA            4.415     0.768  0.157793"
      ]
     },
     "execution_count": 5,
     "metadata": {},
     "output_type": "execute_result"
    }
   ],
   "source": [
    "#Looking for the outliers\n",
    "whr_hdi_df[\"Distance\"] = whr_hdi_df[\"HDI 2016\"] - fit\n",
    "whr_hdi_df\n",
    "#These should be happier!\n",
    "whr_hdi_df.nlargest(5, ['Distance']) "
   ]
  },
  {
   "cell_type": "code",
   "execution_count": 6,
   "metadata": {},
   "outputs": [
    {
     "data": {
      "text/html": [
       "<div>\n",
       "<style scoped>\n",
       "    .dataframe tbody tr th:only-of-type {\n",
       "        vertical-align: middle;\n",
       "    }\n",
       "\n",
       "    .dataframe tbody tr th {\n",
       "        vertical-align: top;\n",
       "    }\n",
       "\n",
       "    .dataframe thead th {\n",
       "        text-align: right;\n",
       "    }\n",
       "</style>\n",
       "<table border=\"1\" class=\"dataframe\">\n",
       "  <thead>\n",
       "    <tr style=\"text-align: right;\">\n",
       "      <th></th>\n",
       "      <th>Country</th>\n",
       "      <th>Country_Code</th>\n",
       "      <th>Happiness Score</th>\n",
       "      <th>HDI 2016</th>\n",
       "      <th>Distance</th>\n",
       "    </tr>\n",
       "  </thead>\n",
       "  <tbody>\n",
       "    <tr>\n",
       "      <th>98</th>\n",
       "      <td>Sierra Leone</td>\n",
       "      <td>SLE</td>\n",
       "      <td>4.635</td>\n",
       "      <td>0.413</td>\n",
       "      <td>-0.221707</td>\n",
       "    </tr>\n",
       "    <tr>\n",
       "      <th>126</th>\n",
       "      <td>Niger</td>\n",
       "      <td>NER</td>\n",
       "      <td>3.856</td>\n",
       "      <td>0.351</td>\n",
       "      <td>-0.196953</td>\n",
       "    </tr>\n",
       "    <tr>\n",
       "      <th>36</th>\n",
       "      <td>Guatemala</td>\n",
       "      <td>GTM</td>\n",
       "      <td>6.324</td>\n",
       "      <td>0.649</td>\n",
       "      <td>-0.173803</td>\n",
       "    </tr>\n",
       "    <tr>\n",
       "      <th>102</th>\n",
       "      <td>Ethiopia</td>\n",
       "      <td>ETH</td>\n",
       "      <td>4.508</td>\n",
       "      <td>0.457</td>\n",
       "      <td>-0.163564</td>\n",
       "    </tr>\n",
       "    <tr>\n",
       "      <th>127</th>\n",
       "      <td>South Sudan</td>\n",
       "      <td>SSD</td>\n",
       "      <td>3.832</td>\n",
       "      <td>0.394</td>\n",
       "      <td>-0.151280</td>\n",
       "    </tr>\n",
       "  </tbody>\n",
       "</table>\n",
       "</div>"
      ],
      "text/plain": [
       "          Country Country_Code  Happiness Score  HDI 2016  Distance\n",
       "98   Sierra Leone          SLE            4.635     0.413 -0.221707\n",
       "126         Niger          NER            3.856     0.351 -0.196953\n",
       "36      Guatemala          GTM            6.324     0.649 -0.173803\n",
       "102      Ethiopia          ETH            4.508     0.457 -0.163564\n",
       "127   South Sudan          SSD            3.832     0.394 -0.151280"
      ]
     },
     "execution_count": 6,
     "metadata": {},
     "output_type": "execute_result"
    }
   ],
   "source": [
    "#These should be sadder!\n",
    "whr_hdi_df.nsmallest(5, ['Distance']) "
   ]
  },
  {
   "cell_type": "code",
   "execution_count": null,
   "metadata": {},
   "outputs": [],
   "source": []
  }
 ],
 "metadata": {
  "anaconda-cloud": {},
  "kernelspec": {
   "display_name": "Python 3",
   "language": "python",
   "name": "python3"
  },
  "language_info": {
   "codemirror_mode": {
    "name": "ipython",
    "version": 3
   },
   "file_extension": ".py",
   "mimetype": "text/x-python",
   "name": "python",
   "nbconvert_exporter": "python",
   "pygments_lexer": "ipython3",
   "version": "3.7.1"
  }
 },
 "nbformat": 4,
 "nbformat_minor": 1
}
