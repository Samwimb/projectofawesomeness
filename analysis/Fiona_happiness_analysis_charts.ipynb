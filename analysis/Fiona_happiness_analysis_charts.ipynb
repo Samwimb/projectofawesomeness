{
 "cells": [
  {
   "cell_type": "code",
   "execution_count": 1,
   "metadata": {},
   "outputs": [],
   "source": [
    "import pandas as pd\n",
    "import matplotlib.pyplot as plt\n",
    "import numpy as np\n",
    "from scipy.stats import linregress"
   ]
  },
  {
   "cell_type": "code",
   "execution_count": 2,
   "metadata": {},
   "outputs": [
    {
     "data": {
      "text/html": [
       "<div>\n",
       "<style scoped>\n",
       "    .dataframe tbody tr th:only-of-type {\n",
       "        vertical-align: middle;\n",
       "    }\n",
       "\n",
       "    .dataframe tbody tr th {\n",
       "        vertical-align: top;\n",
       "    }\n",
       "\n",
       "    .dataframe thead th {\n",
       "        text-align: right;\n",
       "    }\n",
       "</style>\n",
       "<table border=\"1\" class=\"dataframe\">\n",
       "  <thead>\n",
       "    <tr style=\"text-align: right;\">\n",
       "      <th></th>\n",
       "      <th>Country</th>\n",
       "      <th>Happiness Rank</th>\n",
       "      <th>Happiness Score</th>\n",
       "      <th>Economy (GDP per Capita)</th>\n",
       "      <th>Family</th>\n",
       "      <th>Health (Life Expectancy)</th>\n",
       "      <th>Freedom</th>\n",
       "      <th>Trust (Government Corruption)</th>\n",
       "      <th>Generosity</th>\n",
       "      <th>Dystopia Residual</th>\n",
       "      <th>Year</th>\n",
       "      <th>country code</th>\n",
       "    </tr>\n",
       "  </thead>\n",
       "  <tbody>\n",
       "    <tr>\n",
       "      <th>0</th>\n",
       "      <td>Denmark</td>\n",
       "      <td>1</td>\n",
       "      <td>7.526</td>\n",
       "      <td>1.44178</td>\n",
       "      <td>1.16374</td>\n",
       "      <td>0.79504</td>\n",
       "      <td>0.57941</td>\n",
       "      <td>0.44453</td>\n",
       "      <td>0.36171</td>\n",
       "      <td>2.73939</td>\n",
       "      <td>2016</td>\n",
       "      <td>DNK</td>\n",
       "    </tr>\n",
       "    <tr>\n",
       "      <th>1</th>\n",
       "      <td>Switzerland</td>\n",
       "      <td>2</td>\n",
       "      <td>7.509</td>\n",
       "      <td>1.52733</td>\n",
       "      <td>1.14524</td>\n",
       "      <td>0.86303</td>\n",
       "      <td>0.58557</td>\n",
       "      <td>0.41203</td>\n",
       "      <td>0.28083</td>\n",
       "      <td>2.69463</td>\n",
       "      <td>2016</td>\n",
       "      <td>CHE</td>\n",
       "    </tr>\n",
       "    <tr>\n",
       "      <th>2</th>\n",
       "      <td>Iceland</td>\n",
       "      <td>3</td>\n",
       "      <td>7.501</td>\n",
       "      <td>1.42666</td>\n",
       "      <td>1.18326</td>\n",
       "      <td>0.86733</td>\n",
       "      <td>0.56624</td>\n",
       "      <td>0.14975</td>\n",
       "      <td>0.47678</td>\n",
       "      <td>2.83137</td>\n",
       "      <td>2016</td>\n",
       "      <td>ISL</td>\n",
       "    </tr>\n",
       "    <tr>\n",
       "      <th>3</th>\n",
       "      <td>Norway</td>\n",
       "      <td>4</td>\n",
       "      <td>7.498</td>\n",
       "      <td>1.57744</td>\n",
       "      <td>1.12690</td>\n",
       "      <td>0.79579</td>\n",
       "      <td>0.59609</td>\n",
       "      <td>0.35776</td>\n",
       "      <td>0.37895</td>\n",
       "      <td>2.66465</td>\n",
       "      <td>2016</td>\n",
       "      <td>NOR</td>\n",
       "    </tr>\n",
       "    <tr>\n",
       "      <th>4</th>\n",
       "      <td>Finland</td>\n",
       "      <td>5</td>\n",
       "      <td>7.413</td>\n",
       "      <td>1.40598</td>\n",
       "      <td>1.13464</td>\n",
       "      <td>0.81091</td>\n",
       "      <td>0.57104</td>\n",
       "      <td>0.41004</td>\n",
       "      <td>0.25492</td>\n",
       "      <td>2.82596</td>\n",
       "      <td>2016</td>\n",
       "      <td>FIN</td>\n",
       "    </tr>\n",
       "  </tbody>\n",
       "</table>\n",
       "</div>"
      ],
      "text/plain": [
       "       Country  Happiness Rank  Happiness Score  Economy (GDP per Capita)  \\\n",
       "0      Denmark               1            7.526                   1.44178   \n",
       "1  Switzerland               2            7.509                   1.52733   \n",
       "2      Iceland               3            7.501                   1.42666   \n",
       "3       Norway               4            7.498                   1.57744   \n",
       "4      Finland               5            7.413                   1.40598   \n",
       "\n",
       "    Family  Health (Life Expectancy)  Freedom  Trust (Government Corruption)  \\\n",
       "0  1.16374                   0.79504  0.57941                        0.44453   \n",
       "1  1.14524                   0.86303  0.58557                        0.41203   \n",
       "2  1.18326                   0.86733  0.56624                        0.14975   \n",
       "3  1.12690                   0.79579  0.59609                        0.35776   \n",
       "4  1.13464                   0.81091  0.57104                        0.41004   \n",
       "\n",
       "   Generosity  Dystopia Residual  Year country code  \n",
       "0     0.36171            2.73939  2016          DNK  \n",
       "1     0.28083            2.69463  2016          CHE  \n",
       "2     0.47678            2.83137  2016          ISL  \n",
       "3     0.37895            2.66465  2016          NOR  \n",
       "4     0.25492            2.82596  2016          FIN  "
      ]
     },
     "execution_count": 2,
     "metadata": {},
     "output_type": "execute_result"
    }
   ],
   "source": [
    "# Import the 2016 Happiness File\n",
    "file = \"../Resources/whr_2016_cleaned.csv\"\n",
    "happiness_df = pd.read_csv(file)\n",
    "happiness_df.head()\n"
   ]
  },
  {
   "cell_type": "code",
   "execution_count": 3,
   "metadata": {},
   "outputs": [
    {
     "data": {
      "text/plain": [
       "Country                          157\n",
       "Happiness Rank                   157\n",
       "Happiness Score                  157\n",
       "Economy (GDP per Capita)         157\n",
       "Family                           157\n",
       "Health (Life Expectancy)         157\n",
       "Freedom                          157\n",
       "Trust (Government Corruption)    157\n",
       "Generosity                       157\n",
       "Dystopia Residual                157\n",
       "Year                             157\n",
       "country code                     157\n",
       "dtype: int64"
      ]
     },
     "execution_count": 3,
     "metadata": {},
     "output_type": "execute_result"
    }
   ],
   "source": [
    "happiness_df.count()"
   ]
  },
  {
   "cell_type": "code",
   "execution_count": 4,
   "metadata": {},
   "outputs": [
    {
     "data": {
      "text/html": [
       "<div>\n",
       "<style scoped>\n",
       "    .dataframe tbody tr th:only-of-type {\n",
       "        vertical-align: middle;\n",
       "    }\n",
       "\n",
       "    .dataframe tbody tr th {\n",
       "        vertical-align: top;\n",
       "    }\n",
       "\n",
       "    .dataframe thead th {\n",
       "        text-align: right;\n",
       "    }\n",
       "</style>\n",
       "<table border=\"1\" class=\"dataframe\">\n",
       "  <thead>\n",
       "    <tr style=\"text-align: right;\">\n",
       "      <th></th>\n",
       "      <th>country code</th>\n",
       "      <th>Happiness Score</th>\n",
       "      <th>Economy (GDP per Capita)</th>\n",
       "    </tr>\n",
       "  </thead>\n",
       "  <tbody>\n",
       "    <tr>\n",
       "      <th>0</th>\n",
       "      <td>DNK</td>\n",
       "      <td>7.526</td>\n",
       "      <td>1.44178</td>\n",
       "    </tr>\n",
       "    <tr>\n",
       "      <th>1</th>\n",
       "      <td>CHE</td>\n",
       "      <td>7.509</td>\n",
       "      <td>1.52733</td>\n",
       "    </tr>\n",
       "    <tr>\n",
       "      <th>2</th>\n",
       "      <td>ISL</td>\n",
       "      <td>7.501</td>\n",
       "      <td>1.42666</td>\n",
       "    </tr>\n",
       "    <tr>\n",
       "      <th>3</th>\n",
       "      <td>NOR</td>\n",
       "      <td>7.498</td>\n",
       "      <td>1.57744</td>\n",
       "    </tr>\n",
       "    <tr>\n",
       "      <th>4</th>\n",
       "      <td>FIN</td>\n",
       "      <td>7.413</td>\n",
       "      <td>1.40598</td>\n",
       "    </tr>\n",
       "  </tbody>\n",
       "</table>\n",
       "</div>"
      ],
      "text/plain": [
       "  country code  Happiness Score  Economy (GDP per Capita)\n",
       "0          DNK            7.526                   1.44178\n",
       "1          CHE            7.509                   1.52733\n",
       "2          ISL            7.501                   1.42666\n",
       "3          NOR            7.498                   1.57744\n",
       "4          FIN            7.413                   1.40598"
      ]
     },
     "execution_count": 4,
     "metadata": {},
     "output_type": "execute_result"
    }
   ],
   "source": [
    "df_richhappiness = happiness_df[[\"country code\",\"Happiness Score\",\"Economy (GDP per Capita)\",]]\n",
    "df_richhappiness.head()"
   ]
  },
  {
   "cell_type": "code",
   "execution_count": 5,
   "metadata": {},
   "outputs": [
    {
     "name": "stdout",
     "output_type": "stream",
     "text": [
      "0.6246088901220196\n"
     ]
    }
   ],
   "source": [
    "# Set line\n",
    "(slope, intercept, r_value, p_value, std_err) = linregress(df_richhappiness[\"Happiness Score\"], df_richhappiness[\"Economy (GDP per Capita)\"])\n",
    "#y=mx+b\n",
    "fit_economy = slope * df_richhappiness[\"Happiness Score\"] + intercept\n",
    "r_squared_economy = r_value**2\n",
    "print(r_squared_economy)"
   ]
  },
  {
   "cell_type": "code",
   "execution_count": 6,
   "metadata": {},
   "outputs": [
    {
     "data": {
      "image/png": "[encoded data removed]",
      "text/plain": [
       "<Figure size 432x288 with 1 Axes>"
      ]
     },
     "metadata": {
      "needs_background": "light"
     },
     "output_type": "display_data"
    }
   ],
   "source": [
    "#Create a scatter plot for Happiness score and Economy\n",
    "plt.scatter(df_richhappiness[\"Happiness Score\"],df_richhappiness[\"Economy (GDP per Capita)\"], marker = 'o', s=10)\n",
    "plt.plot(df_richhappiness[\"Happiness Score\"], fit_economy, 'b--')\n",
    "#Format the chart\n",
    "plt.title(\"Happiness Score vs. Economy (2016)\")\n",
    "plt.xlabel(\"Happiness Score\")\n",
    "plt.ylabel(\"Economy (GDP per Capital, %)\")\n",
    "plt.grid(True)\n",
    "\n",
    "#Save the chart\n",
    "plt.savefig(\"../outputs/Happiness_vs_Economy.png\")\n",
    "\n",
    "#Show the chart\n",
    "plt.show()"
   ]
  },
  {
   "cell_type": "code",
   "execution_count": 7,
   "metadata": {},
   "outputs": [
    {
     "data": {
      "text/html": [
       "<div>\n",
       "<style scoped>\n",
       "    .dataframe tbody tr th:only-of-type {\n",
       "        vertical-align: middle;\n",
       "    }\n",
       "\n",
       "    .dataframe tbody tr th {\n",
       "        vertical-align: top;\n",
       "    }\n",
       "\n",
       "    .dataframe thead th {\n",
       "        text-align: right;\n",
       "    }\n",
       "</style>\n",
       "<table border=\"1\" class=\"dataframe\">\n",
       "  <thead>\n",
       "    <tr style=\"text-align: right;\">\n",
       "      <th></th>\n",
       "      <th>country code</th>\n",
       "      <th>Happiness Score</th>\n",
       "      <th>Generosity</th>\n",
       "    </tr>\n",
       "  </thead>\n",
       "  <tbody>\n",
       "    <tr>\n",
       "      <th>0</th>\n",
       "      <td>DNK</td>\n",
       "      <td>7.526</td>\n",
       "      <td>0.36171</td>\n",
       "    </tr>\n",
       "    <tr>\n",
       "      <th>1</th>\n",
       "      <td>CHE</td>\n",
       "      <td>7.509</td>\n",
       "      <td>0.28083</td>\n",
       "    </tr>\n",
       "    <tr>\n",
       "      <th>2</th>\n",
       "      <td>ISL</td>\n",
       "      <td>7.501</td>\n",
       "      <td>0.47678</td>\n",
       "    </tr>\n",
       "    <tr>\n",
       "      <th>3</th>\n",
       "      <td>NOR</td>\n",
       "      <td>7.498</td>\n",
       "      <td>0.37895</td>\n",
       "    </tr>\n",
       "    <tr>\n",
       "      <th>4</th>\n",
       "      <td>FIN</td>\n",
       "      <td>7.413</td>\n",
       "      <td>0.25492</td>\n",
       "    </tr>\n",
       "  </tbody>\n",
       "</table>\n",
       "</div>"
      ],
      "text/plain": [
       "  country code  Happiness Score  Generosity\n",
       "0          DNK            7.526     0.36171\n",
       "1          CHE            7.509     0.28083\n",
       "2          ISL            7.501     0.47678\n",
       "3          NOR            7.498     0.37895\n",
       "4          FIN            7.413     0.25492"
      ]
     },
     "execution_count": 7,
     "metadata": {},
     "output_type": "execute_result"
    }
   ],
   "source": [
    "df_generoushappiness = happiness_df[[\"country code\",\"Happiness Score\",\"Generosity\",]]\n",
    "df_generoushappiness.head()\n"
   ]
  },
  {
   "cell_type": "code",
   "execution_count": 8,
   "metadata": {},
   "outputs": [
    {
     "name": "stdout",
     "output_type": "stream",
     "text": [
      "0.024601231236667673\n"
     ]
    }
   ],
   "source": [
    "# Set line\n",
    "(slope, intercept, r_value, p_value, std_err) = linregress(df_generoushappiness[\"Happiness Score\"], df_generoushappiness[\"Generosity\"])\n",
    "#y=mx+b\n",
    "fit_generosity = slope * df_generoushappiness[\"Happiness Score\"] + intercept\n",
    "r_squared_generosity = r_value**2\n",
    "print(r_squared_generosity)"
   ]
  },
  {
   "cell_type": "code",
   "execution_count": 9,
   "metadata": {},
   "outputs": [
    {
     "data": {
      "image/png": "[encoded data removed]",
      "text/plain": [
       "<Figure size 432x288 with 1 Axes>"
      ]
     },
     "metadata": {
      "needs_background": "light"
     },
     "output_type": "display_data"
    }
   ],
   "source": [
    "#Create a scatter plot for Happiness score and Generosity\n",
    "plt.scatter(df_generoushappiness[\"Happiness Score\"],df_generoushappiness[\"Generosity\"], marker = 'o', s=10)\n",
    "plt.plot(df_generoushappiness[\"Happiness Score\"], fit_generosity, 'b--')\n",
    "\n",
    "#Format the chart\n",
    "plt.title(\"Happiness Score vs. Generosity (2016)\")\n",
    "plt.xlabel(\"Happiness Score\")\n",
    "plt.ylabel(\"Generosity)\")\n",
    "plt.grid(True)\n",
    "\n",
    "#Save the chart\n",
    "plt.savefig(\"../outputs/Happiness_vs_Generosity.png\")\n",
    "\n",
    "#Show the chart\n",
    "plt.show()"
   ]
  },
  {
   "cell_type": "code",
   "execution_count": 10,
   "metadata": {},
   "outputs": [
    {
     "data": {
      "text/html": [
       "<div>\n",
       "<style scoped>\n",
       "    .dataframe tbody tr th:only-of-type {\n",
       "        vertical-align: middle;\n",
       "    }\n",
       "\n",
       "    .dataframe tbody tr th {\n",
       "        vertical-align: top;\n",
       "    }\n",
       "\n",
       "    .dataframe thead th {\n",
       "        text-align: right;\n",
       "    }\n",
       "</style>\n",
       "<table border=\"1\" class=\"dataframe\">\n",
       "  <thead>\n",
       "    <tr style=\"text-align: right;\">\n",
       "      <th></th>\n",
       "      <th>country code</th>\n",
       "      <th>Happiness Score</th>\n",
       "      <th>Freedom</th>\n",
       "    </tr>\n",
       "  </thead>\n",
       "  <tbody>\n",
       "    <tr>\n",
       "      <th>0</th>\n",
       "      <td>DNK</td>\n",
       "      <td>7.526</td>\n",
       "      <td>0.57941</td>\n",
       "    </tr>\n",
       "    <tr>\n",
       "      <th>1</th>\n",
       "      <td>CHE</td>\n",
       "      <td>7.509</td>\n",
       "      <td>0.58557</td>\n",
       "    </tr>\n",
       "    <tr>\n",
       "      <th>2</th>\n",
       "      <td>ISL</td>\n",
       "      <td>7.501</td>\n",
       "      <td>0.56624</td>\n",
       "    </tr>\n",
       "    <tr>\n",
       "      <th>3</th>\n",
       "      <td>NOR</td>\n",
       "      <td>7.498</td>\n",
       "      <td>0.59609</td>\n",
       "    </tr>\n",
       "    <tr>\n",
       "      <th>4</th>\n",
       "      <td>FIN</td>\n",
       "      <td>7.413</td>\n",
       "      <td>0.57104</td>\n",
       "    </tr>\n",
       "  </tbody>\n",
       "</table>\n",
       "</div>"
      ],
      "text/plain": [
       "  country code  Happiness Score  Freedom\n",
       "0          DNK            7.526  0.57941\n",
       "1          CHE            7.509  0.58557\n",
       "2          ISL            7.501  0.56624\n",
       "3          NOR            7.498  0.59609\n",
       "4          FIN            7.413  0.57104"
      ]
     },
     "execution_count": 10,
     "metadata": {},
     "output_type": "execute_result"
    }
   ],
   "source": [
    "df_freedomhappiness = happiness_df[[\"country code\",\"Happiness Score\",\"Freedom\",]]\n",
    "df_freedomhappiness.head()\n"
   ]
  },
  {
   "cell_type": "code",
   "execution_count": 11,
   "metadata": {},
   "outputs": [
    {
     "name": "stdout",
     "output_type": "stream",
     "text": [
      "0.32129247733409233\n"
     ]
    }
   ],
   "source": [
    "# Set line\n",
    "(slope, intercept, r_value, p_value, std_err) = linregress(df_freedomhappiness[\"Happiness Score\"], df_freedomhappiness[\"Freedom\"])\n",
    "#y=mx+b\n",
    "fit_freedom = slope * df_freedomhappiness[\"Happiness Score\"] + intercept\n",
    "r_squared_freedom = r_value**2\n",
    "print(r_squared_freedom)"
   ]
  },
  {
   "cell_type": "code",
   "execution_count": 12,
   "metadata": {},
   "outputs": [
    {
     "data": {
      "image/png": "[encoded data removed]",
      "text/plain": [
       "<Figure size 432x288 with 1 Axes>"
      ]
     },
     "metadata": {
      "needs_background": "light"
     },
     "output_type": "display_data"
    }
   ],
   "source": [
    "#Create a scatter plot for Happiness score and Freedom\n",
    "plt.scatter(df_freedomhappiness[\"Happiness Score\"],df_freedomhappiness[\"Freedom\"], marker = 'o', s=10)\n",
    "plt.plot(df_freedomhappiness[\"Happiness Score\"], fit_freedom, 'b--')\n",
    "\n",
    "#Format the chart\n",
    "plt.title(\"Happiness Score vs. Freedom (2016)\")\n",
    "plt.xlabel(\"Happiness Score\")\n",
    "plt.ylabel(\"Freedom\")\n",
    "plt.grid(True)\n",
    "\n",
    "#Save the chart\n",
    "plt.savefig(\"../outputs/Happiness_vs_Freedom.png\")\n",
    "\n",
    "#Show the chart\n",
    "plt.show()"
   ]
  },
  {
   "cell_type": "code",
   "execution_count": 13,
   "metadata": {},
   "outputs": [
    {
     "data": {
      "text/html": [
       "<div>\n",
       "<style scoped>\n",
       "    .dataframe tbody tr th:only-of-type {\n",
       "        vertical-align: middle;\n",
       "    }\n",
       "\n",
       "    .dataframe tbody tr th {\n",
       "        vertical-align: top;\n",
       "    }\n",
       "\n",
       "    .dataframe thead th {\n",
       "        text-align: right;\n",
       "    }\n",
       "</style>\n",
       "<table border=\"1\" class=\"dataframe\">\n",
       "  <thead>\n",
       "    <tr style=\"text-align: right;\">\n",
       "      <th></th>\n",
       "      <th>country code</th>\n",
       "      <th>Happiness Score</th>\n",
       "      <th>Family</th>\n",
       "    </tr>\n",
       "  </thead>\n",
       "  <tbody>\n",
       "    <tr>\n",
       "      <th>0</th>\n",
       "      <td>DNK</td>\n",
       "      <td>7.526</td>\n",
       "      <td>1.16374</td>\n",
       "    </tr>\n",
       "    <tr>\n",
       "      <th>1</th>\n",
       "      <td>CHE</td>\n",
       "      <td>7.509</td>\n",
       "      <td>1.14524</td>\n",
       "    </tr>\n",
       "    <tr>\n",
       "      <th>2</th>\n",
       "      <td>ISL</td>\n",
       "      <td>7.501</td>\n",
       "      <td>1.18326</td>\n",
       "    </tr>\n",
       "    <tr>\n",
       "      <th>3</th>\n",
       "      <td>NOR</td>\n",
       "      <td>7.498</td>\n",
       "      <td>1.12690</td>\n",
       "    </tr>\n",
       "    <tr>\n",
       "      <th>4</th>\n",
       "      <td>FIN</td>\n",
       "      <td>7.413</td>\n",
       "      <td>1.13464</td>\n",
       "    </tr>\n",
       "  </tbody>\n",
       "</table>\n",
       "</div>"
      ],
      "text/plain": [
       "  country code  Happiness Score   Family\n",
       "0          DNK            7.526  1.16374\n",
       "1          CHE            7.509  1.14524\n",
       "2          ISL            7.501  1.18326\n",
       "3          NOR            7.498  1.12690\n",
       "4          FIN            7.413  1.13464"
      ]
     },
     "execution_count": 13,
     "metadata": {},
     "output_type": "execute_result"
    }
   ],
   "source": [
    "df_familyhappiness = happiness_df[[\"country code\",\"Happiness Score\",\"Family\",]]\n",
    "df_familyhappiness.head()\n"
   ]
  },
  {
   "cell_type": "code",
   "execution_count": 14,
   "metadata": {},
   "outputs": [
    {
     "name": "stdout",
     "output_type": "stream",
     "text": [
      "0.5464928946987405\n"
     ]
    }
   ],
   "source": [
    "# Set line\n",
    "(slope, intercept, r_value, p_value, std_err) = linregress(df_familyhappiness[\"Happiness Score\"], df_familyhappiness[\"Family\"])\n",
    "#y=mx+b\n",
    "fit_family = slope * df_familyhappiness[\"Happiness Score\"] + intercept\n",
    "r_squared_family = r_value**2\n",
    "print(r_squared_family)"
   ]
  },
  {
   "cell_type": "code",
   "execution_count": 16,
   "metadata": {},
   "outputs": [
    {
     "data": {
      "image/png": "[encoded data removed]",
      "text/plain": [
       "<Figure size 432x288 with 1 Axes>"
      ]
     },
     "metadata": {
      "needs_background": "light"
     },
     "output_type": "display_data"
    }
   ],
   "source": [
    "#Create a scatter plot for Happiness score and Family\n",
    "plt.scatter(df_familyhappiness[\"Happiness Score\"],df_familyhappiness[\"Family\"], marker = 'o', s=10)\n",
    "plt.plot(df_familyhappiness[\"Happiness Score\"], fit_family, 'b--')\n",
    "\n",
    "#Format the chart\n",
    "plt.title(\"Happiness Score vs. Family (2016)\")\n",
    "plt.xlabel(\"Happiness Score\")\n",
    "plt.ylabel(\"Family\")\n",
    "plt.grid(True)\n",
    "\n",
    "#Save the chart\n",
    "plt.savefig(\"../outputs/Happiness_vs_Family.png\")\n",
    "\n",
    "#Show the chart\n",
    "plt.show()"
   ]
  },
  {
   "cell_type": "code",
   "execution_count": 17,
   "metadata": {},
   "outputs": [
    {
     "data": {
      "text/html": [
       "<div>\n",
       "<style scoped>\n",
       "    .dataframe tbody tr th:only-of-type {\n",
       "        vertical-align: middle;\n",
       "    }\n",
       "\n",
       "    .dataframe tbody tr th {\n",
       "        vertical-align: top;\n",
       "    }\n",
       "\n",
       "    .dataframe thead th {\n",
       "        text-align: right;\n",
       "    }\n",
       "</style>\n",
       "<table border=\"1\" class=\"dataframe\">\n",
       "  <thead>\n",
       "    <tr style=\"text-align: right;\">\n",
       "      <th></th>\n",
       "      <th>country code</th>\n",
       "      <th>Happiness Score</th>\n",
       "      <th>Health (Life Expectancy)</th>\n",
       "    </tr>\n",
       "  </thead>\n",
       "  <tbody>\n",
       "    <tr>\n",
       "      <th>0</th>\n",
       "      <td>DNK</td>\n",
       "      <td>7.526</td>\n",
       "      <td>0.79504</td>\n",
       "    </tr>\n",
       "    <tr>\n",
       "      <th>1</th>\n",
       "      <td>CHE</td>\n",
       "      <td>7.509</td>\n",
       "      <td>0.86303</td>\n",
       "    </tr>\n",
       "    <tr>\n",
       "      <th>2</th>\n",
       "      <td>ISL</td>\n",
       "      <td>7.501</td>\n",
       "      <td>0.86733</td>\n",
       "    </tr>\n",
       "    <tr>\n",
       "      <th>3</th>\n",
       "      <td>NOR</td>\n",
       "      <td>7.498</td>\n",
       "      <td>0.79579</td>\n",
       "    </tr>\n",
       "    <tr>\n",
       "      <th>4</th>\n",
       "      <td>FIN</td>\n",
       "      <td>7.413</td>\n",
       "      <td>0.81091</td>\n",
       "    </tr>\n",
       "  </tbody>\n",
       "</table>\n",
       "</div>"
      ],
      "text/plain": [
       "  country code  Happiness Score  Health (Life Expectancy)\n",
       "0          DNK            7.526                   0.79504\n",
       "1          CHE            7.509                   0.86303\n",
       "2          ISL            7.501                   0.86733\n",
       "3          NOR            7.498                   0.79579\n",
       "4          FIN            7.413                   0.81091"
      ]
     },
     "execution_count": 17,
     "metadata": {},
     "output_type": "execute_result"
    }
   ],
   "source": [
    "df_healthhappiness = happiness_df[[\"country code\",\"Happiness Score\",\"Health (Life Expectancy)\",]]\n",
    "df_healthhappiness.head()\n"
   ]
  },
  {
   "cell_type": "code",
   "execution_count": 18,
   "metadata": {},
   "outputs": [
    {
     "name": "stdout",
     "output_type": "stream",
     "text": [
      "0.585813179396469\n"
     ]
    }
   ],
   "source": [
    "# Set line\n",
    "(slope, intercept, r_value, p_value, std_err) = linregress(df_healthhappiness[\"Happiness Score\"], df_healthhappiness[\"Health (Life Expectancy)\"])\n",
    "#y=mx+b\n",
    "fit_health = slope * df_healthhappiness[\"Happiness Score\"] + intercept\n",
    "r_squared_health = r_value**2\n",
    "print(r_squared_health)"
   ]
  },
  {
   "cell_type": "code",
   "execution_count": 19,
   "metadata": {},
   "outputs": [
    {
     "data": {
      "image/png": "[encoded data removed]",
      "text/plain": [
       "<Figure size 432x288 with 1 Axes>"
      ]
     },
     "metadata": {
      "needs_background": "light"
     },
     "output_type": "display_data"
    }
   ],
   "source": [
    "#Create a scatter plot for Happiness score and Life Expectancy\n",
    "plt.scatter(df_healthhappiness[\"Happiness Score\"],df_healthhappiness[\"Health (Life Expectancy)\"], marker = 'o', s=10)\n",
    "plt.plot(df_healthhappiness[\"Happiness Score\"], fit_health, 'b--')\n",
    "\n",
    "#Format the chart\n",
    "plt.title(\"Happiness Score vs. Life Expectancy (2016)\")\n",
    "plt.xlabel(\"Happiness Score\")\n",
    "plt.ylabel(\"Life Expectancy\")\n",
    "plt.grid(True)\n",
    "\n",
    "#Save the chart\n",
    "plt.savefig(\"../outputs/Happiness_vs_LifeExpectancy.png\")\n",
    "\n",
    "#Show the chart\n",
    "plt.show()"
   ]
  },
  {
   "cell_type": "code",
   "execution_count": 20,
   "metadata": {},
   "outputs": [
    {
     "data": {
      "text/html": [
       "<div>\n",
       "<style scoped>\n",
       "    .dataframe tbody tr th:only-of-type {\n",
       "        vertical-align: middle;\n",
       "    }\n",
       "\n",
       "    .dataframe tbody tr th {\n",
       "        vertical-align: top;\n",
       "    }\n",
       "\n",
       "    .dataframe thead th {\n",
       "        text-align: right;\n",
       "    }\n",
       "</style>\n",
       "<table border=\"1\" class=\"dataframe\">\n",
       "  <thead>\n",
       "    <tr style=\"text-align: right;\">\n",
       "      <th></th>\n",
       "      <th>country code</th>\n",
       "      <th>Happiness Score</th>\n",
       "      <th>Trust (Government Corruption)</th>\n",
       "    </tr>\n",
       "  </thead>\n",
       "  <tbody>\n",
       "    <tr>\n",
       "      <th>0</th>\n",
       "      <td>DNK</td>\n",
       "      <td>7.526</td>\n",
       "      <td>0.44453</td>\n",
       "    </tr>\n",
       "    <tr>\n",
       "      <th>1</th>\n",
       "      <td>CHE</td>\n",
       "      <td>7.509</td>\n",
       "      <td>0.41203</td>\n",
       "    </tr>\n",
       "    <tr>\n",
       "      <th>2</th>\n",
       "      <td>ISL</td>\n",
       "      <td>7.501</td>\n",
       "      <td>0.14975</td>\n",
       "    </tr>\n",
       "    <tr>\n",
       "      <th>3</th>\n",
       "      <td>NOR</td>\n",
       "      <td>7.498</td>\n",
       "      <td>0.35776</td>\n",
       "    </tr>\n",
       "    <tr>\n",
       "      <th>4</th>\n",
       "      <td>FIN</td>\n",
       "      <td>7.413</td>\n",
       "      <td>0.41004</td>\n",
       "    </tr>\n",
       "  </tbody>\n",
       "</table>\n",
       "</div>"
      ],
      "text/plain": [
       "  country code  Happiness Score  Trust (Government Corruption)\n",
       "0          DNK            7.526                        0.44453\n",
       "1          CHE            7.509                        0.41203\n",
       "2          ISL            7.501                        0.14975\n",
       "3          NOR            7.498                        0.35776\n",
       "4          FIN            7.413                        0.41004"
      ]
     },
     "execution_count": 20,
     "metadata": {},
     "output_type": "execute_result"
    }
   ],
   "source": [
    "df_govthappiness = happiness_df[[\"country code\",\"Happiness Score\",\"Trust (Government Corruption)\",]]\n",
    "df_govthappiness.head()\n"
   ]
  },
  {
   "cell_type": "code",
   "execution_count": 21,
   "metadata": {},
   "outputs": [
    {
     "name": "stdout",
     "output_type": "stream",
     "text": [
      "0.16162992613817267\n"
     ]
    }
   ],
   "source": [
    "# Set line\n",
    "(slope, intercept, r_value, p_value, std_err) = linregress(df_govthappiness[\"Happiness Score\"], df_govthappiness[\"Trust (Government Corruption)\"])\n",
    "#y=mx+b\n",
    "fit_corruption = slope * df_govthappiness[\"Happiness Score\"] + intercept\n",
    "r_squared_corruption = r_value**2\n",
    "print(r_squared_corruption)"
   ]
  },
  {
   "cell_type": "code",
   "execution_count": 22,
   "metadata": {},
   "outputs": [
    {
     "data": {
      "image/png": "[encoded data removed]",
      "text/plain": [
       "<Figure size 432x288 with 1 Axes>"
      ]
     },
     "metadata": {
      "needs_background": "light"
     },
     "output_type": "display_data"
    }
   ],
   "source": [
    "#Create a scatter plot for Happiness score and Govt Corruption\n",
    "plt.scatter(df_govthappiness[\"Happiness Score\"],df_govthappiness[\"Trust (Government Corruption)\"], marker = 'o', s=10)\n",
    "plt.plot(df_govthappiness[\"Happiness Score\"], fit_corruption, 'b--')\n",
    "\n",
    "#Format the chart\n",
    "plt.title(\"Happiness Score vs. Government Corruption (2016)\")\n",
    "plt.xlabel(\"Happiness Score\")\n",
    "plt.ylabel(\"Government Corruption\")\n",
    "plt.grid(True)\n",
    "\n",
    "#Save the chart\n",
    "plt.savefig(\"../outputs/Happiness_vs_GovtCorruption.png\")\n",
    "\n",
    "#Show the chart\n",
    "plt.show()"
   ]
  },
  {
   "cell_type": "code",
   "execution_count": 23,
   "metadata": {},
   "outputs": [
    {
     "name": "stdout",
     "output_type": "stream",
     "text": [
      "0.6246088901220196\n",
      "0.024601231236667673\n",
      "0.5464928946987405\n",
      "0.32129247733409233\n",
      "0.585813179396469\n",
      "0.16162992613817267\n"
     ]
    }
   ],
   "source": [
    "print(r_squared_economy)\n",
    "print(r_squared_generosity)\n",
    "print(r_squared_family)\n",
    "print(r_squared_freedom)\n",
    "print(r_squared_health)\n",
    "print(r_squared_corruption)"
   ]
  },
  {
   "cell_type": "code",
   "execution_count": null,
   "metadata": {},
   "outputs": [],
   "source": []
  }
 ],
 "metadata": {
  "kernelspec": {
   "display_name": "Python 3",
   "language": "python",
   "name": "python3"
  },
  "language_info": {
   "codemirror_mode": {
    "name": "ipython",
    "version": 3
   },
   "file_extension": ".py",
   "mimetype": "text/x-python",
   "name": "python",
   "nbconvert_exporter": "python",
   "pygments_lexer": "ipython3",
   "version": "3.7.1"
  }
 },
 "nbformat": 4,
 "nbformat_minor": 2
}
