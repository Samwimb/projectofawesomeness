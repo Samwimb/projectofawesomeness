{
 "cells": [
  {
   "cell_type": "code",
   "execution_count": 1,
   "metadata": {},
   "outputs": [],
   "source": [
    "import pandas as pd\n",
    "from matplotlib.cm import viridis\n",
    "from matplotlib.colors import to_hex\n",
    "\n",
    "import matplotlib.pyplot as plt\n",
    "import gmaps\n",
    "import gmaps.datasets\n",
    "import gmaps.geojson_geometries\n",
    "import pycountry\n",
    "import numpy as np\n",
    "from scipy.stats import linregress\n",
    "\n",
    "from config_sw import api_key\n",
    "\n",
    "gmaps.configure(api_key=api_key)\n",
    "countries_geojson = gmaps.geojson_geometries.load_geometry('countries')"
   ]
  },
  {
   "cell_type": "code",
   "execution_count": 2,
   "metadata": {},
   "outputs": [],
   "source": [
    "# world health report\n",
    "whr_2015 = pd.read_csv('../Resources/whr_2015_cleaned.csv')\n",
    "whr_2016 = pd.read_csv('../Resources/whr_2016_cleaned.csv')\n",
    "# whr_2017 = pd.read_csv('Resources/whr_2017_cleaned.csv')\n",
    "\n",
    "# World Health Organization Suicide Summary\n",
    "who_sum = pd.read_csv('../Resources/who_suicide_summary(country codes).csv')"
   ]
  },
  {
   "cell_type": "code",
   "execution_count": 3,
   "metadata": {},
   "outputs": [],
   "source": [
    "whr_2015_trimmed = whr_2015[['Country', 'Happiness Score', 'country code']]\n",
    "whr_2016_trimmed = whr_2016[['Country', 'Happiness Score', 'country code']]\n",
    "# whr_2017_trimmed = whr_2017[['Country', 'Happiness Score', 'country code']]"
   ]
  },
  {
   "cell_type": "code",
   "execution_count": 4,
   "metadata": {},
   "outputs": [
    {
     "data": {
      "text/html": [
       "<div>\n",
       "<style scoped>\n",
       "    .dataframe tbody tr th:only-of-type {\n",
       "        vertical-align: middle;\n",
       "    }\n",
       "\n",
       "    .dataframe tbody tr th {\n",
       "        vertical-align: top;\n",
       "    }\n",
       "\n",
       "    .dataframe thead th {\n",
       "        text-align: right;\n",
       "    }\n",
       "</style>\n",
       "<table border=\"1\" class=\"dataframe\">\n",
       "  <thead>\n",
       "    <tr style=\"text-align: right;\">\n",
       "      <th></th>\n",
       "      <th>Country</th>\n",
       "      <th>Happiness Score</th>\n",
       "      <th>country code</th>\n",
       "    </tr>\n",
       "  </thead>\n",
       "  <tbody>\n",
       "    <tr>\n",
       "      <th>0</th>\n",
       "      <td>Switzerland</td>\n",
       "      <td>7.587</td>\n",
       "      <td>CHE</td>\n",
       "    </tr>\n",
       "    <tr>\n",
       "      <th>1</th>\n",
       "      <td>Iceland</td>\n",
       "      <td>7.561</td>\n",
       "      <td>ISL</td>\n",
       "    </tr>\n",
       "    <tr>\n",
       "      <th>2</th>\n",
       "      <td>Denmark</td>\n",
       "      <td>7.527</td>\n",
       "      <td>DNK</td>\n",
       "    </tr>\n",
       "    <tr>\n",
       "      <th>3</th>\n",
       "      <td>Norway</td>\n",
       "      <td>7.522</td>\n",
       "      <td>NOR</td>\n",
       "    </tr>\n",
       "    <tr>\n",
       "      <th>4</th>\n",
       "      <td>Canada</td>\n",
       "      <td>7.427</td>\n",
       "      <td>CAN</td>\n",
       "    </tr>\n",
       "  </tbody>\n",
       "</table>\n",
       "</div>"
      ],
      "text/plain": [
       "       Country  Happiness Score country code\n",
       "0  Switzerland            7.587          CHE\n",
       "1      Iceland            7.561          ISL\n",
       "2      Denmark            7.527          DNK\n",
       "3       Norway            7.522          NOR\n",
       "4       Canada            7.427          CAN"
      ]
     },
     "execution_count": 4,
     "metadata": {},
     "output_type": "execute_result"
    }
   ],
   "source": [
    "whr_2015_trimmed.head()"
   ]
  },
  {
   "cell_type": "code",
   "execution_count": 5,
   "metadata": {},
   "outputs": [
    {
     "data": {
      "text/html": [
       "<div>\n",
       "<style scoped>\n",
       "    .dataframe tbody tr th:only-of-type {\n",
       "        vertical-align: middle;\n",
       "    }\n",
       "\n",
       "    .dataframe tbody tr th {\n",
       "        vertical-align: top;\n",
       "    }\n",
       "\n",
       "    .dataframe thead th {\n",
       "        text-align: right;\n",
       "    }\n",
       "</style>\n",
       "<table border=\"1\" class=\"dataframe\">\n",
       "  <thead>\n",
       "    <tr style=\"text-align: right;\">\n",
       "      <th></th>\n",
       "      <th>Country_x</th>\n",
       "      <th>2016</th>\n",
       "      <th>country code</th>\n",
       "      <th>Country_y</th>\n",
       "      <th>2015</th>\n",
       "    </tr>\n",
       "  </thead>\n",
       "  <tbody>\n",
       "    <tr>\n",
       "      <th>0</th>\n",
       "      <td>Denmark</td>\n",
       "      <td>7.526</td>\n",
       "      <td>DNK</td>\n",
       "      <td>Denmark</td>\n",
       "      <td>7.527</td>\n",
       "    </tr>\n",
       "    <tr>\n",
       "      <th>1</th>\n",
       "      <td>Switzerland</td>\n",
       "      <td>7.509</td>\n",
       "      <td>CHE</td>\n",
       "      <td>Switzerland</td>\n",
       "      <td>7.587</td>\n",
       "    </tr>\n",
       "    <tr>\n",
       "      <th>2</th>\n",
       "      <td>Iceland</td>\n",
       "      <td>7.501</td>\n",
       "      <td>ISL</td>\n",
       "      <td>Iceland</td>\n",
       "      <td>7.561</td>\n",
       "    </tr>\n",
       "    <tr>\n",
       "      <th>3</th>\n",
       "      <td>Norway</td>\n",
       "      <td>7.498</td>\n",
       "      <td>NOR</td>\n",
       "      <td>Norway</td>\n",
       "      <td>7.522</td>\n",
       "    </tr>\n",
       "    <tr>\n",
       "      <th>4</th>\n",
       "      <td>Finland</td>\n",
       "      <td>7.413</td>\n",
       "      <td>FIN</td>\n",
       "      <td>Finland</td>\n",
       "      <td>7.406</td>\n",
       "    </tr>\n",
       "  </tbody>\n",
       "</table>\n",
       "</div>"
      ],
      "text/plain": [
       "     Country_x   2016 country code    Country_y   2015\n",
       "0      Denmark  7.526          DNK      Denmark  7.527\n",
       "1  Switzerland  7.509          CHE  Switzerland  7.587\n",
       "2      Iceland  7.501          ISL      Iceland  7.561\n",
       "3       Norway  7.498          NOR       Norway  7.522\n",
       "4      Finland  7.413          FIN      Finland  7.406"
      ]
     },
     "execution_count": 5,
     "metadata": {},
     "output_type": "execute_result"
    }
   ],
   "source": [
    "whr_master = pd.merge(whr_2016_trimmed, whr_2015_trimmed, how='outer', on='country code')\n",
    "whr_master = whr_master.rename(columns={'Happiness Score_x': '2016', 'Happiness Score_y': '2015'})\n",
    "# whr_master['average'] = whr_master.mean(axis=1)\n",
    "whr_master.head()"
   ]
  },
  {
   "cell_type": "code",
   "execution_count": 6,
   "metadata": {},
   "outputs": [
    {
     "data": {
      "text/html": [
       "<div>\n",
       "<style scoped>\n",
       "    .dataframe tbody tr th:only-of-type {\n",
       "        vertical-align: middle;\n",
       "    }\n",
       "\n",
       "    .dataframe tbody tr th {\n",
       "        vertical-align: top;\n",
       "    }\n",
       "\n",
       "    .dataframe thead th {\n",
       "        text-align: right;\n",
       "    }\n",
       "</style>\n",
       "<table border=\"1\" class=\"dataframe\">\n",
       "  <thead>\n",
       "    <tr style=\"text-align: right;\">\n",
       "      <th></th>\n",
       "      <th>Country</th>\n",
       "      <th>country code</th>\n",
       "      <th>2016</th>\n",
       "      <th>2015</th>\n",
       "      <th>avg_happiness</th>\n",
       "    </tr>\n",
       "  </thead>\n",
       "  <tbody>\n",
       "    <tr>\n",
       "      <th>0</th>\n",
       "      <td>Denmark</td>\n",
       "      <td>DNK</td>\n",
       "      <td>7.526</td>\n",
       "      <td>7.527</td>\n",
       "      <td>7.5265</td>\n",
       "    </tr>\n",
       "    <tr>\n",
       "      <th>1</th>\n",
       "      <td>Switzerland</td>\n",
       "      <td>CHE</td>\n",
       "      <td>7.509</td>\n",
       "      <td>7.587</td>\n",
       "      <td>7.5480</td>\n",
       "    </tr>\n",
       "    <tr>\n",
       "      <th>2</th>\n",
       "      <td>Iceland</td>\n",
       "      <td>ISL</td>\n",
       "      <td>7.501</td>\n",
       "      <td>7.561</td>\n",
       "      <td>7.5310</td>\n",
       "    </tr>\n",
       "    <tr>\n",
       "      <th>3</th>\n",
       "      <td>Norway</td>\n",
       "      <td>NOR</td>\n",
       "      <td>7.498</td>\n",
       "      <td>7.522</td>\n",
       "      <td>7.5100</td>\n",
       "    </tr>\n",
       "    <tr>\n",
       "      <th>4</th>\n",
       "      <td>Finland</td>\n",
       "      <td>FIN</td>\n",
       "      <td>7.413</td>\n",
       "      <td>7.406</td>\n",
       "      <td>7.4095</td>\n",
       "    </tr>\n",
       "  </tbody>\n",
       "</table>\n",
       "</div>"
      ],
      "text/plain": [
       "       Country country code   2016   2015  avg_happiness\n",
       "0      Denmark          DNK  7.526  7.527         7.5265\n",
       "1  Switzerland          CHE  7.509  7.587         7.5480\n",
       "2      Iceland          ISL  7.501  7.561         7.5310\n",
       "3       Norway          NOR  7.498  7.522         7.5100\n",
       "4      Finland          FIN  7.413  7.406         7.4095"
      ]
     },
     "execution_count": 6,
     "metadata": {},
     "output_type": "execute_result"
    }
   ],
   "source": [
    "whr_master['Country_x'] = whr_master['Country_x'].fillna(whr_master['Country_y'])\n",
    "whr_master = whr_master.rename(columns={'Country_x': 'Country'}).drop(columns='Country_y')\n",
    "whr_master = whr_master[['Country', 'country code', '2016', '2015']]\n",
    "whr_master['avg_happiness'] = whr_master.mean(axis=1)\n",
    "whr_master.head()"
   ]
  },
  {
   "cell_type": "code",
   "execution_count": 7,
   "metadata": {
    "scrolled": true
   },
   "outputs": [
    {
     "data": {
      "text/html": [
       "<div>\n",
       "<style scoped>\n",
       "    .dataframe tbody tr th:only-of-type {\n",
       "        vertical-align: middle;\n",
       "    }\n",
       "\n",
       "    .dataframe tbody tr th {\n",
       "        vertical-align: top;\n",
       "    }\n",
       "\n",
       "    .dataframe thead th {\n",
       "        text-align: right;\n",
       "    }\n",
       "</style>\n",
       "<table border=\"1\" class=\"dataframe\">\n",
       "  <thead>\n",
       "    <tr style=\"text-align: right;\">\n",
       "      <th></th>\n",
       "      <th>country code</th>\n",
       "      <th>avg_happiness</th>\n",
       "    </tr>\n",
       "  </thead>\n",
       "  <tbody>\n",
       "    <tr>\n",
       "      <th>0</th>\n",
       "      <td>DNK</td>\n",
       "      <td>7.5265</td>\n",
       "    </tr>\n",
       "    <tr>\n",
       "      <th>1</th>\n",
       "      <td>CHE</td>\n",
       "      <td>7.5480</td>\n",
       "    </tr>\n",
       "    <tr>\n",
       "      <th>2</th>\n",
       "      <td>ISL</td>\n",
       "      <td>7.5310</td>\n",
       "    </tr>\n",
       "    <tr>\n",
       "      <th>3</th>\n",
       "      <td>NOR</td>\n",
       "      <td>7.5100</td>\n",
       "    </tr>\n",
       "    <tr>\n",
       "      <th>4</th>\n",
       "      <td>FIN</td>\n",
       "      <td>7.4095</td>\n",
       "    </tr>\n",
       "  </tbody>\n",
       "</table>\n",
       "</div>"
      ],
      "text/plain": [
       "  country code  avg_happiness\n",
       "0          DNK         7.5265\n",
       "1          CHE         7.5480\n",
       "2          ISL         7.5310\n",
       "3          NOR         7.5100\n",
       "4          FIN         7.4095"
      ]
     },
     "execution_count": 7,
     "metadata": {},
     "output_type": "execute_result"
    }
   ],
   "source": [
    "whr_final = whr_master[['country code', 'avg_happiness']]\n",
    "hap_min = whr_final['avg_happiness'].min()\n",
    "hap_max = whr_final['avg_happiness'].max()\n",
    "hap_range = hap_max - hap_min\n",
    "whr_final.head()"
   ]
  },
  {
   "cell_type": "code",
   "execution_count": 8,
   "metadata": {},
   "outputs": [
    {
     "name": "stderr",
     "output_type": "stream",
     "text": [
      "/anaconda3/lib/python3.7/site-packages/ipykernel_launcher.py:1: SettingWithCopyWarning: \n",
      "A value is trying to be set on a copy of a slice from a DataFrame.\n",
      "Try using .loc[row_indexer,col_indexer] = value instead\n",
      "\n",
      "See the caveats in the documentation: http://pandas.pydata.org/pandas-docs/stable/indexing.html#indexing-view-versus-copy\n",
      "  \"\"\"Entry point for launching an IPython kernel.\n"
     ]
    },
    {
     "data": {
      "text/html": [
       "<div>\n",
       "<style scoped>\n",
       "    .dataframe tbody tr th:only-of-type {\n",
       "        vertical-align: middle;\n",
       "    }\n",
       "\n",
       "    .dataframe tbody tr th {\n",
       "        vertical-align: top;\n",
       "    }\n",
       "\n",
       "    .dataframe thead th {\n",
       "        text-align: right;\n",
       "    }\n",
       "</style>\n",
       "<table border=\"1\" class=\"dataframe\">\n",
       "  <thead>\n",
       "    <tr style=\"text-align: right;\">\n",
       "      <th></th>\n",
       "      <th>country code</th>\n",
       "      <th>avg_happiness</th>\n",
       "      <th>norm_hap</th>\n",
       "    </tr>\n",
       "  </thead>\n",
       "  <tbody>\n",
       "    <tr>\n",
       "      <th>0</th>\n",
       "      <td>DNK</td>\n",
       "      <td>7.5265</td>\n",
       "      <td>0.995369</td>\n",
       "    </tr>\n",
       "    <tr>\n",
       "      <th>1</th>\n",
       "      <td>CHE</td>\n",
       "      <td>7.5480</td>\n",
       "      <td>1.000000</td>\n",
       "    </tr>\n",
       "    <tr>\n",
       "      <th>2</th>\n",
       "      <td>ISL</td>\n",
       "      <td>7.5310</td>\n",
       "      <td>0.996339</td>\n",
       "    </tr>\n",
       "    <tr>\n",
       "      <th>3</th>\n",
       "      <td>NOR</td>\n",
       "      <td>7.5100</td>\n",
       "      <td>0.991816</td>\n",
       "    </tr>\n",
       "    <tr>\n",
       "      <th>4</th>\n",
       "      <td>FIN</td>\n",
       "      <td>7.4095</td>\n",
       "      <td>0.970170</td>\n",
       "    </tr>\n",
       "  </tbody>\n",
       "</table>\n",
       "</div>"
      ],
      "text/plain": [
       "  country code  avg_happiness  norm_hap\n",
       "0          DNK         7.5265  0.995369\n",
       "1          CHE         7.5480  1.000000\n",
       "2          ISL         7.5310  0.996339\n",
       "3          NOR         7.5100  0.991816\n",
       "4          FIN         7.4095  0.970170"
      ]
     },
     "execution_count": 8,
     "metadata": {},
     "output_type": "execute_result"
    }
   ],
   "source": [
    "whr_final['norm_hap'] = (whr_final['avg_happiness'] - hap_min) / hap_range\n",
    "whr_final.head()"
   ]
  },
  {
   "cell_type": "code",
   "execution_count": 9,
   "metadata": {},
   "outputs": [
    {
     "data": {
      "text/html": [
       "<div>\n",
       "<style scoped>\n",
       "    .dataframe tbody tr th:only-of-type {\n",
       "        vertical-align: middle;\n",
       "    }\n",
       "\n",
       "    .dataframe tbody tr th {\n",
       "        vertical-align: top;\n",
       "    }\n",
       "\n",
       "    .dataframe thead th {\n",
       "        text-align: right;\n",
       "    }\n",
       "</style>\n",
       "<table border=\"1\" class=\"dataframe\">\n",
       "  <thead>\n",
       "    <tr style=\"text-align: right;\">\n",
       "      <th></th>\n",
       "      <th>Country</th>\n",
       "      <th>country code</th>\n",
       "      <th>2016</th>\n",
       "      <th>2015</th>\n",
       "      <th>avg_suicide</th>\n",
       "    </tr>\n",
       "  </thead>\n",
       "  <tbody>\n",
       "    <tr>\n",
       "      <th>0</th>\n",
       "      <td>Afghanistan</td>\n",
       "      <td>AFG</td>\n",
       "      <td>4.7</td>\n",
       "      <td>4.8</td>\n",
       "      <td>4.75</td>\n",
       "    </tr>\n",
       "    <tr>\n",
       "      <th>1</th>\n",
       "      <td>Albania</td>\n",
       "      <td>ALB</td>\n",
       "      <td>6.3</td>\n",
       "      <td>6.0</td>\n",
       "      <td>6.15</td>\n",
       "    </tr>\n",
       "    <tr>\n",
       "      <th>2</th>\n",
       "      <td>Algeria</td>\n",
       "      <td>DZA</td>\n",
       "      <td>3.2</td>\n",
       "      <td>3.2</td>\n",
       "      <td>3.20</td>\n",
       "    </tr>\n",
       "    <tr>\n",
       "      <th>3</th>\n",
       "      <td>Angola</td>\n",
       "      <td>AGO</td>\n",
       "      <td>4.7</td>\n",
       "      <td>5.0</td>\n",
       "      <td>4.85</td>\n",
       "    </tr>\n",
       "    <tr>\n",
       "      <th>4</th>\n",
       "      <td>Antigua and Barbuda</td>\n",
       "      <td>ATG</td>\n",
       "      <td>0.5</td>\n",
       "      <td>0.8</td>\n",
       "      <td>0.65</td>\n",
       "    </tr>\n",
       "  </tbody>\n",
       "</table>\n",
       "</div>"
      ],
      "text/plain": [
       "               Country country code  2016  2015  avg_suicide\n",
       "0          Afghanistan          AFG   4.7   4.8         4.75\n",
       "1              Albania          ALB   6.3   6.0         6.15\n",
       "2              Algeria          DZA   3.2   3.2         3.20\n",
       "3               Angola          AGO   4.7   5.0         4.85\n",
       "4  Antigua and Barbuda          ATG   0.5   0.8         0.65"
      ]
     },
     "execution_count": 9,
     "metadata": {},
     "output_type": "execute_result"
    }
   ],
   "source": [
    "who_sum = who_sum[['Country', 'CC', '2016', '2015']]\n",
    "who_sum = who_sum.rename(columns={'CC': 'country code'})\n",
    "who_sum['avg_suicide'] = who_sum.mean(axis=1)\n",
    "who_sum.head()"
   ]
  },
  {
   "cell_type": "code",
   "execution_count": 10,
   "metadata": {},
   "outputs": [
    {
     "data": {
      "text/html": [
       "<div>\n",
       "<style scoped>\n",
       "    .dataframe tbody tr th:only-of-type {\n",
       "        vertical-align: middle;\n",
       "    }\n",
       "\n",
       "    .dataframe tbody tr th {\n",
       "        vertical-align: top;\n",
       "    }\n",
       "\n",
       "    .dataframe thead th {\n",
       "        text-align: right;\n",
       "    }\n",
       "</style>\n",
       "<table border=\"1\" class=\"dataframe\">\n",
       "  <thead>\n",
       "    <tr style=\"text-align: right;\">\n",
       "      <th></th>\n",
       "      <th>country code</th>\n",
       "      <th>avg_suicide</th>\n",
       "    </tr>\n",
       "  </thead>\n",
       "  <tbody>\n",
       "    <tr>\n",
       "      <th>0</th>\n",
       "      <td>AFG</td>\n",
       "      <td>4.75</td>\n",
       "    </tr>\n",
       "    <tr>\n",
       "      <th>1</th>\n",
       "      <td>ALB</td>\n",
       "      <td>6.15</td>\n",
       "    </tr>\n",
       "    <tr>\n",
       "      <th>2</th>\n",
       "      <td>DZA</td>\n",
       "      <td>3.20</td>\n",
       "    </tr>\n",
       "    <tr>\n",
       "      <th>3</th>\n",
       "      <td>AGO</td>\n",
       "      <td>4.85</td>\n",
       "    </tr>\n",
       "    <tr>\n",
       "      <th>4</th>\n",
       "      <td>ATG</td>\n",
       "      <td>0.65</td>\n",
       "    </tr>\n",
       "  </tbody>\n",
       "</table>\n",
       "</div>"
      ],
      "text/plain": [
       "  country code  avg_suicide\n",
       "0          AFG         4.75\n",
       "1          ALB         6.15\n",
       "2          DZA         3.20\n",
       "3          AGO         4.85\n",
       "4          ATG         0.65"
      ]
     },
     "execution_count": 10,
     "metadata": {},
     "output_type": "execute_result"
    }
   ],
   "source": [
    "who_final = who_sum[['country code', 'avg_suicide']]\n",
    "suc_min = who_final['avg_suicide'].min()\n",
    "suc_max = who_final['avg_suicide'].max()\n",
    "suc_range = suc_max - suc_min\n",
    "who_final.head()"
   ]
  },
  {
   "cell_type": "code",
   "execution_count": 11,
   "metadata": {},
   "outputs": [
    {
     "name": "stderr",
     "output_type": "stream",
     "text": [
      "/anaconda3/lib/python3.7/site-packages/ipykernel_launcher.py:1: SettingWithCopyWarning: \n",
      "A value is trying to be set on a copy of a slice from a DataFrame.\n",
      "Try using .loc[row_indexer,col_indexer] = value instead\n",
      "\n",
      "See the caveats in the documentation: http://pandas.pydata.org/pandas-docs/stable/indexing.html#indexing-view-versus-copy\n",
      "  \"\"\"Entry point for launching an IPython kernel.\n"
     ]
    },
    {
     "data": {
      "text/html": [
       "<div>\n",
       "<style scoped>\n",
       "    .dataframe tbody tr th:only-of-type {\n",
       "        vertical-align: middle;\n",
       "    }\n",
       "\n",
       "    .dataframe tbody tr th {\n",
       "        vertical-align: top;\n",
       "    }\n",
       "\n",
       "    .dataframe thead th {\n",
       "        text-align: right;\n",
       "    }\n",
       "</style>\n",
       "<table border=\"1\" class=\"dataframe\">\n",
       "  <thead>\n",
       "    <tr style=\"text-align: right;\">\n",
       "      <th></th>\n",
       "      <th>country code</th>\n",
       "      <th>avg_suicide</th>\n",
       "      <th>norm_suc</th>\n",
       "    </tr>\n",
       "  </thead>\n",
       "  <tbody>\n",
       "    <tr>\n",
       "      <th>0</th>\n",
       "      <td>AFG</td>\n",
       "      <td>4.75</td>\n",
       "      <td>0.125191</td>\n",
       "    </tr>\n",
       "    <tr>\n",
       "      <th>1</th>\n",
       "      <td>ALB</td>\n",
       "      <td>6.15</td>\n",
       "      <td>0.167939</td>\n",
       "    </tr>\n",
       "    <tr>\n",
       "      <th>2</th>\n",
       "      <td>DZA</td>\n",
       "      <td>3.20</td>\n",
       "      <td>0.077863</td>\n",
       "    </tr>\n",
       "    <tr>\n",
       "      <th>3</th>\n",
       "      <td>AGO</td>\n",
       "      <td>4.85</td>\n",
       "      <td>0.128244</td>\n",
       "    </tr>\n",
       "    <tr>\n",
       "      <th>4</th>\n",
       "      <td>ATG</td>\n",
       "      <td>0.65</td>\n",
       "      <td>0.000000</td>\n",
       "    </tr>\n",
       "  </tbody>\n",
       "</table>\n",
       "</div>"
      ],
      "text/plain": [
       "  country code  avg_suicide  norm_suc\n",
       "0          AFG         4.75  0.125191\n",
       "1          ALB         6.15  0.167939\n",
       "2          DZA         3.20  0.077863\n",
       "3          AGO         4.85  0.128244\n",
       "4          ATG         0.65  0.000000"
      ]
     },
     "execution_count": 11,
     "metadata": {},
     "output_type": "execute_result"
    }
   ],
   "source": [
    "who_final['norm_suc'] = (who_final['avg_suicide'] - suc_min) / suc_range\n",
    "who_final.head()"
   ]
  },
  {
   "cell_type": "code",
   "execution_count": 12,
   "metadata": {},
   "outputs": [
    {
     "data": {
      "text/html": [
       "<div>\n",
       "<style scoped>\n",
       "    .dataframe tbody tr th:only-of-type {\n",
       "        vertical-align: middle;\n",
       "    }\n",
       "\n",
       "    .dataframe tbody tr th {\n",
       "        vertical-align: top;\n",
       "    }\n",
       "\n",
       "    .dataframe thead th {\n",
       "        text-align: right;\n",
       "    }\n",
       "</style>\n",
       "<table border=\"1\" class=\"dataframe\">\n",
       "  <thead>\n",
       "    <tr style=\"text-align: right;\">\n",
       "      <th></th>\n",
       "      <th>country code</th>\n",
       "      <th>avg_happiness</th>\n",
       "      <th>norm_hap</th>\n",
       "      <th>avg_suicide</th>\n",
       "      <th>norm_suc</th>\n",
       "    </tr>\n",
       "  </thead>\n",
       "  <tbody>\n",
       "    <tr>\n",
       "      <th>0</th>\n",
       "      <td>DNK</td>\n",
       "      <td>7.5265</td>\n",
       "      <td>0.995369</td>\n",
       "      <td>12.35</td>\n",
       "      <td>0.357252</td>\n",
       "    </tr>\n",
       "    <tr>\n",
       "      <th>1</th>\n",
       "      <td>CHE</td>\n",
       "      <td>7.5480</td>\n",
       "      <td>1.000000</td>\n",
       "      <td>17.15</td>\n",
       "      <td>0.503817</td>\n",
       "    </tr>\n",
       "    <tr>\n",
       "      <th>2</th>\n",
       "      <td>ISL</td>\n",
       "      <td>7.5310</td>\n",
       "      <td>0.996339</td>\n",
       "      <td>14.00</td>\n",
       "      <td>0.407634</td>\n",
       "    </tr>\n",
       "    <tr>\n",
       "      <th>3</th>\n",
       "      <td>NOR</td>\n",
       "      <td>7.5100</td>\n",
       "      <td>0.991816</td>\n",
       "      <td>12.30</td>\n",
       "      <td>0.355725</td>\n",
       "    </tr>\n",
       "    <tr>\n",
       "      <th>4</th>\n",
       "      <td>FIN</td>\n",
       "      <td>7.4095</td>\n",
       "      <td>0.970170</td>\n",
       "      <td>15.15</td>\n",
       "      <td>0.442748</td>\n",
       "    </tr>\n",
       "  </tbody>\n",
       "</table>\n",
       "</div>"
      ],
      "text/plain": [
       "  country code  avg_happiness  norm_hap  avg_suicide  norm_suc\n",
       "0          DNK         7.5265  0.995369        12.35  0.357252\n",
       "1          CHE         7.5480  1.000000        17.15  0.503817\n",
       "2          ISL         7.5310  0.996339        14.00  0.407634\n",
       "3          NOR         7.5100  0.991816        12.30  0.355725\n",
       "4          FIN         7.4095  0.970170        15.15  0.442748"
      ]
     },
     "execution_count": 12,
     "metadata": {},
     "output_type": "execute_result"
    }
   ],
   "source": [
    "residual_df = whr_final.merge(who_final, on='country code', how='inner')\n",
    "residual_df.head()"
   ]
  },
  {
   "cell_type": "code",
   "execution_count": 13,
   "metadata": {},
   "outputs": [
    {
     "data": {
      "text/html": [
       "<div>\n",
       "<style scoped>\n",
       "    .dataframe tbody tr th:only-of-type {\n",
       "        vertical-align: middle;\n",
       "    }\n",
       "\n",
       "    .dataframe tbody tr th {\n",
       "        vertical-align: top;\n",
       "    }\n",
       "\n",
       "    .dataframe thead th {\n",
       "        text-align: right;\n",
       "    }\n",
       "</style>\n",
       "<table border=\"1\" class=\"dataframe\">\n",
       "  <thead>\n",
       "    <tr style=\"text-align: right;\">\n",
       "      <th></th>\n",
       "      <th>country code</th>\n",
       "      <th>avg_happiness</th>\n",
       "      <th>norm_hap</th>\n",
       "      <th>avg_suicide</th>\n",
       "      <th>norm_suc</th>\n",
       "      <th>diff</th>\n",
       "    </tr>\n",
       "  </thead>\n",
       "  <tbody>\n",
       "    <tr>\n",
       "      <th>0</th>\n",
       "      <td>DNK</td>\n",
       "      <td>7.5265</td>\n",
       "      <td>0.995369</td>\n",
       "      <td>12.35</td>\n",
       "      <td>0.357252</td>\n",
       "      <td>0.638117</td>\n",
       "    </tr>\n",
       "    <tr>\n",
       "      <th>1</th>\n",
       "      <td>CHE</td>\n",
       "      <td>7.5480</td>\n",
       "      <td>1.000000</td>\n",
       "      <td>17.15</td>\n",
       "      <td>0.503817</td>\n",
       "      <td>0.496183</td>\n",
       "    </tr>\n",
       "    <tr>\n",
       "      <th>2</th>\n",
       "      <td>ISL</td>\n",
       "      <td>7.5310</td>\n",
       "      <td>0.996339</td>\n",
       "      <td>14.00</td>\n",
       "      <td>0.407634</td>\n",
       "      <td>0.588705</td>\n",
       "    </tr>\n",
       "    <tr>\n",
       "      <th>3</th>\n",
       "      <td>NOR</td>\n",
       "      <td>7.5100</td>\n",
       "      <td>0.991816</td>\n",
       "      <td>12.30</td>\n",
       "      <td>0.355725</td>\n",
       "      <td>0.636090</td>\n",
       "    </tr>\n",
       "    <tr>\n",
       "      <th>4</th>\n",
       "      <td>FIN</td>\n",
       "      <td>7.4095</td>\n",
       "      <td>0.970170</td>\n",
       "      <td>15.15</td>\n",
       "      <td>0.442748</td>\n",
       "      <td>0.527422</td>\n",
       "    </tr>\n",
       "  </tbody>\n",
       "</table>\n",
       "</div>"
      ],
      "text/plain": [
       "  country code  avg_happiness  norm_hap  avg_suicide  norm_suc      diff\n",
       "0          DNK         7.5265  0.995369        12.35  0.357252  0.638117\n",
       "1          CHE         7.5480  1.000000        17.15  0.503817  0.496183\n",
       "2          ISL         7.5310  0.996339        14.00  0.407634  0.588705\n",
       "3          NOR         7.5100  0.991816        12.30  0.355725  0.636090\n",
       "4          FIN         7.4095  0.970170        15.15  0.442748  0.527422"
      ]
     },
     "execution_count": 13,
     "metadata": {},
     "output_type": "execute_result"
    }
   ],
   "source": [
    "residual_df['diff'] = residual_df['norm_hap'] - residual_df['norm_suc']\n",
    "residual_df.head()"
   ]
  },
  {
   "cell_type": "code",
   "execution_count": 14,
   "metadata": {},
   "outputs": [],
   "source": [
    "happiness = whr_final[['country code', 'norm_hap']].set_index('country code').to_dict()['norm_hap']\n",
    "suicide = who_final[['country code', 'norm_suc']].set_index('country code').to_dict()['norm_suc']\n",
    "residual = residual_df[['country code', 'diff']].set_index('country code').to_dict()['diff']"
   ]
  },
  {
   "cell_type": "code",
   "execution_count": 15,
   "metadata": {},
   "outputs": [],
   "source": [
    "def calculate_color(data, inv=False):\n",
    "    # invert data so that high value gives lighter color\n",
    "    inv_data = 1.0 - data\n",
    "\n",
    "    # transform the data coefficient to a matplotlib color\n",
    "    if not inv:\n",
    "        mpl_color = viridis(inv_data)\n",
    "    else:\n",
    "        mpl_color = viridis(data)\n",
    "\n",
    "    # transform from a matplotlib color to a valid CSS color\n",
    "    gmaps_color = to_hex(mpl_color, keep_alpha=False)\n",
    "\n",
    "    return gmaps_color"
   ]
  },
  {
   "cell_type": "code",
   "execution_count": 16,
   "metadata": {},
   "outputs": [],
   "source": [
    "# Calculate a HAPPPINESS color for each GeoJSON feature\n",
    "hap_colors = []\n",
    "for feature in countries_geojson['features']:\n",
    "    country_name = feature['properties']['ISO_A3'] # ISO_A3\n",
    "    try:\n",
    "        data = happiness[country_name]\n",
    "        color = calculate_color(data, inv=True)\n",
    "    except KeyError:\n",
    "        # no data for that country: return default color\n",
    "        color = (0, 0, 0, 0.3)\n",
    "    hap_colors.append(color)"
   ]
  },
  {
   "cell_type": "code",
   "execution_count": 17,
   "metadata": {},
   "outputs": [],
   "source": [
    "# Calculate a SUICIDE color for each GeoJSON feature\n",
    "suc_colors = []\n",
    "for feature in countries_geojson['features']:\n",
    "    country_name = feature['properties']['ISO_A3'] # ISO_A3\n",
    "    try:\n",
    "        data = suicide[country_name]\n",
    "        color = calculate_color(data)\n",
    "    except KeyError:\n",
    "        # no data for that country: return default color\n",
    "        color = (0, 0, 0, 0.3)\n",
    "    suc_colors.append(color)"
   ]
  },
  {
   "cell_type": "code",
   "execution_count": 18,
   "metadata": {},
   "outputs": [],
   "source": [
    "# Calculate a RESIDUAL color for each GeoJSON feature\n",
    "res_colors = []\n",
    "for feature in countries_geojson['features']:\n",
    "    country_name = feature['properties']['ISO_A3'] # ISO_A3\n",
    "    try:\n",
    "        data = residual[country_name]\n",
    "        color = calculate_color(data, inv=True)\n",
    "    except KeyError:\n",
    "        # no data for that country: return default color\n",
    "        color = (0, 0, 0, 0.3)\n",
    "    res_colors.append(color)"
   ]
  },
  {
   "cell_type": "code",
   "execution_count": 19,
   "metadata": {
    "scrolled": false
   },
   "outputs": [
    {
     "data": {
      "application/vnd.jupyter.widget-view+json": {
       "model_id": "607dd54cb8d74d39b481cb932f0ebd11",
       "version_major": 2,
       "version_minor": 0
      },
      "text/plain": [
       "Figure(layout=FigureLayout(height='420px'))"
      ]
     },
     "metadata": {},
     "output_type": "display_data"
    }
   ],
   "source": [
    "fig = gmaps.figure()\n",
    "happiness_layer = gmaps.geojson_layer(\n",
    "    countries_geojson,\n",
    "    fill_color=hap_colors,\n",
    "    stroke_color=hap_colors,\n",
    "    fill_opacity=0.8)\n",
    "fig.add_layer(happiness_layer)\n",
    "fig"
   ]
  },
  {
   "cell_type": "code",
   "execution_count": 20,
   "metadata": {},
   "outputs": [
    {
     "data": {
      "application/vnd.jupyter.widget-view+json": {
       "model_id": "4e18e4e3f11649e8be9357026bfa7f8c",
       "version_major": 2,
       "version_minor": 0
      },
      "text/plain": [
       "Figure(layout=FigureLayout(height='420px'))"
      ]
     },
     "metadata": {},
     "output_type": "display_data"
    }
   ],
   "source": [
    "fig = gmaps.figure()\n",
    "suicide_layer = gmaps.geojson_layer(\n",
    "    countries_geojson,\n",
    "    fill_color=suc_colors,\n",
    "    stroke_color=suc_colors,\n",
    "    fill_opacity=0.8)\n",
    "fig.add_layer(suicide_layer)\n",
    "fig"
   ]
  },
  {
   "cell_type": "code",
   "execution_count": 21,
   "metadata": {},
   "outputs": [
    {
     "data": {
      "application/vnd.jupyter.widget-view+json": {
       "model_id": "8ed8b10444eb471e90b2fcdb528d8e69",
       "version_major": 2,
       "version_minor": 0
      },
      "text/plain": [
       "Figure(layout=FigureLayout(height='420px'))"
      ]
     },
     "metadata": {},
     "output_type": "display_data"
    }
   ],
   "source": [
    "fig = gmaps.figure()\n",
    "residual_layer = gmaps.geojson_layer(\n",
    "    countries_geojson,\n",
    "    fill_color=res_colors,\n",
    "    stroke_color=res_colors,\n",
    "    fill_opacity=0.8)\n",
    "fig.add_layer(residual_layer)\n",
    "fig"
   ]
  },
  {
   "cell_type": "code",
   "execution_count": 22,
   "metadata": {},
   "outputs": [
    {
     "name": "stdout",
     "output_type": "stream",
     "text": [
      "0.18904899767110278\n",
      "0.17104754541532857\n",
      "0.27217978967830986\n",
      "0.0008529155968285783\n",
      "0.055503555608118295\n"
     ]
    }
   ],
   "source": [
    "slope, intercept, r, p, std_err = linregress(residual_df['norm_hap'], residual_df['norm_suc'])\n",
    "fit = slope * residual_df['norm_hap'] + intercept\n",
    "print(slope)\n",
    "print(intercept)\n",
    "print(r)\n",
    "print(p)\n",
    "print(std_err)"
   ]
  },
  {
   "cell_type": "code",
   "execution_count": 23,
   "metadata": {},
   "outputs": [
    {
     "data": {
      "image/png": "[encoded data removed]",
      "text/plain": [
       "<Figure size 576x360 with 1 Axes>"
      ]
     },
     "metadata": {
      "needs_background": "light"
     },
     "output_type": "display_data"
    }
   ],
   "source": [
    "fig, ax = plt.subplots(figsize=(8, 5))\n",
    "ax.scatter(residual_df['norm_hap'], residual_df['norm_suc'])\n",
    "ax.plot(residual_df['norm_hap'], fit, '-k')\n",
    "plt.text(0, .8, 'R^2 = ' + str(round(r**2, 4)))\n",
    "plt.title('Happiness Score vs Suicide Rate', fontsize=20)\n",
    "plt.xlabel('Happiness Score', fontsize=14)\n",
    "plt.ylabel('Suicide Rate (per 100,000 population)', fontsize=14)\n",
    "plt.savefig('../outputs/Happiness_Suicide_Scatter.png')\n",
    "plt.show()"
   ]
  },
  {
   "cell_type": "code",
   "execution_count": null,
   "metadata": {},
   "outputs": [],
   "source": []
  }
 ],
 "metadata": {
  "kernelspec": {
   "display_name": "Python 3",
   "language": "python",
   "name": "python3"
  },
  "language_info": {
   "codemirror_mode": {
    "name": "ipython",
    "version": 3
   },
   "file_extension": ".py",
   "mimetype": "text/x-python",
   "name": "python",
   "nbconvert_exporter": "python",
   "pygments_lexer": "ipython3",
   "version": "3.7.1"
  }
 },
 "nbformat": 4,
 "nbformat_minor": 2
}
